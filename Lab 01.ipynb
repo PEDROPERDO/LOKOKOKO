{
  "nbformat": 4,
  "nbformat_minor": 0,
  "metadata": {
    "colab": {
      "provenance": []
    },
    "kernelspec": {
      "name": "python3",
      "display_name": "Python 3"
    },
    "language_info": {
      "name": "python"
    }
  },
  "cells": [
    {
      "cell_type": "code",
      "execution_count": 1,
      "metadata": {
        "id": "owMaLllKT_c1"
      },
      "outputs": [],
      "source": [
        "# !pip install stopwords\n",
        "\n",
        "import tensorflow as tf\n",
        "\n",
        "import tensorflow_datasets as tfds\n",
        "\n",
        "tfds.disable_progress_bar()"
      ]
    },
    {
      "cell_type": "code",
      "source": [
        "data = \"imdb_reviews\"\n",
        "\n",
        "ontrue = !False\n",
        "\n",
        "split = [\"train\", \"test\"]\n",
        "\n",
        "(train, test) = tfds.load(data, split=split, as_supervised=ontrue)"
      ],
      "metadata": {
        "id": "I-G8ExbTUmys"
      },
      "execution_count": 2,
      "outputs": []
    },
    {
      "cell_type": "code",
      "source": [
        "import stopwords\n",
        "\n",
        "unlist = stopwords.get_stopwords(\"english\")\n",
        "\n",
        "type(unlist)"
      ],
      "metadata": {
        "colab": {
          "base_uri": "https://localhost:8080/"
        },
        "id": "DEJJn6oeU9VS",
        "outputId": "418fccaa-7beb-4c81-da4a-1a00ca62a867"
      },
      "execution_count": 3,
      "outputs": [
        {
          "output_type": "execute_result",
          "data": {
            "text/plain": [
              "list"
            ]
          },
          "metadata": {},
          "execution_count": 3
        }
      ]
    },
    {
      "cell_type": "code",
      "source": [
        "train_input = []; train_label = []\n",
        "\n",
        "test_input = []; test_label = []\n",
        "\n",
        "retori = lambda snt : [i for i in snt.lower().split() if i not in unlist]\n",
        "\n",
        "for data, label in train:\n",
        "  retari = \" \".join(retori(data.numpy().decode(\"utf8\")))\n",
        "  train_input.append(retari)\n",
        "  train_label.append(label.numpy())\n",
        "\n",
        "for data, label in test:\n",
        "  retari = \" \".join(retori(data.numpy().decode(\"utf8\")))\n",
        "  test_input.append(retari)\n",
        "  test_label.append(label.numpy())"
      ],
      "metadata": {
        "id": "ifvgLFLaVChu"
      },
      "execution_count": 4,
      "outputs": []
    },
    {
      "cell_type": "code",
      "source": [
        "len(train_input), len(test_input), len(train_label), len(test_label)"
      ],
      "metadata": {
        "colab": {
          "base_uri": "https://localhost:8080/"
        },
        "id": "zxqbrCJNVUCw",
        "outputId": "249600ef-7427-4b88-8dd0-c60eae14cb92"
      },
      "execution_count": 5,
      "outputs": [
        {
          "output_type": "execute_result",
          "data": {
            "text/plain": [
              "(25000, 25000, 25000, 25000)"
            ]
          },
          "metadata": {},
          "execution_count": 5
        }
      ]
    },
    {
      "cell_type": "code",
      "source": [
        "import tensorflow.keras.layers as layers\n",
        "\n",
        "vector = layers.TextVectorization(max_tokens=10)\n",
        "\n",
        "sample = [\"aku suka ikan\", \"ikan goreng\", \"ibu masak ikan\", \"bapak masak ayam bersama ibu\"]\n",
        "\n",
        "vector.adapt(sample)"
      ],
      "metadata": {
        "id": "z-Eyf9TdVX9z"
      },
      "execution_count": 6,
      "outputs": []
    },
    {
      "cell_type": "code",
      "source": [
        "vector.get_vocabulary()[:5]"
      ],
      "metadata": {
        "colab": {
          "base_uri": "https://localhost:8080/"
        },
        "id": "qEqPhpXmVZnq",
        "outputId": "c0dc8d76-f80d-40cc-8049-616d24734bfa"
      },
      "execution_count": 7,
      "outputs": [
        {
          "output_type": "execute_result",
          "data": {
            "text/plain": [
              "['', '[UNK]', 'ikan', 'masak', 'ibu']"
            ]
          },
          "metadata": {},
          "execution_count": 7
        }
      ]
    },
    {
      "cell_type": "code",
      "source": [
        "vector.get_vocabulary()[5:]"
      ],
      "metadata": {
        "colab": {
          "base_uri": "https://localhost:8080/"
        },
        "id": "tOlssXCNVa3K",
        "outputId": "2fdbd9df-f254-4559-e49e-cc5f3ef45a7b"
      },
      "execution_count": 8,
      "outputs": [
        {
          "output_type": "execute_result",
          "data": {
            "text/plain": [
              "['suka', 'goreng', 'bersama', 'bapak', 'ayam']"
            ]
          },
          "metadata": {},
          "execution_count": 8
        }
      ]
    },
    {
      "cell_type": "code",
      "source": [
        "vector.get_vocabulary()[1]"
      ],
      "metadata": {
        "colab": {
          "base_uri": "https://localhost:8080/",
          "height": 35
        },
        "id": "za1xh8MIVcPQ",
        "outputId": "850628a6-5c0e-4dc1-ed4a-ae7958826ff2"
      },
      "execution_count": 9,
      "outputs": [
        {
          "output_type": "execute_result",
          "data": {
            "text/plain": [
              "'[UNK]'"
            ],
            "application/vnd.google.colaboratory.intrinsic+json": {
              "type": "string"
            }
          },
          "metadata": {},
          "execution_count": 9
        }
      ]
    },
    {
      "cell_type": "code",
      "source": [
        "vector.get_vocabulary(include_special_tokens=False)"
      ],
      "metadata": {
        "colab": {
          "base_uri": "https://localhost:8080/"
        },
        "id": "UoWIGDl7VfTo",
        "outputId": "a3b5cb90-9b30-4bc8-f8f4-4d70d7433320"
      },
      "execution_count": 10,
      "outputs": [
        {
          "output_type": "execute_result",
          "data": {
            "text/plain": [
              "['ikan', 'masak', 'ibu', 'suka', 'goreng', 'bersama', 'bapak', 'ayam']"
            ]
          },
          "metadata": {},
          "execution_count": 10
        }
      ]
    },
    {
      "cell_type": "code",
      "source": [
        "samplet = [\"ikan masak ibu tadi\"]\n",
        "\n",
        "vector(samplet).numpy()"
      ],
      "metadata": {
        "colab": {
          "base_uri": "https://localhost:8080/"
        },
        "id": "pi5lzP1-Vdse",
        "outputId": "1a2f70c1-5f8c-4068-c0ce-993fe8e49b5f"
      },
      "execution_count": 11,
      "outputs": [
        {
          "output_type": "execute_result",
          "data": {
            "text/plain": [
              "array([[2, 3, 4, 1]])"
            ]
          },
          "metadata": {},
          "execution_count": 11
        }
      ]
    },
    {
      "cell_type": "code",
      "source": [
        "len(vector.get_vocabulary())"
      ],
      "metadata": {
        "colab": {
          "base_uri": "https://localhost:8080/"
        },
        "id": "Z7F-5U3hVizt",
        "outputId": "50174921-76a8-4e7d-9ec8-aea1df8e0f76"
      },
      "execution_count": 12,
      "outputs": [
        {
          "output_type": "execute_result",
          "data": {
            "text/plain": [
              "10"
            ]
          },
          "metadata": {},
          "execution_count": 12
        }
      ]
    },
    {
      "cell_type": "code",
      "source": [
        "max_tokens = 15000\n",
        "\n",
        "embedding = 16\n",
        "\n",
        "output_sequence_length = 180\n",
        "\n",
        "tokener = layers.TextVectorization(\n",
        "  max_tokens=max_tokens, output_mode=\"int\",\n",
        "  pad_to_max_tokens=ontrue,\n",
        "  output_sequence_length=output_sequence_length)\n",
        "\n",
        "tokener.adapt(train_input)"
      ],
      "metadata": {
        "id": "eq8d79rnVkdM"
      },
      "execution_count": 13,
      "outputs": []
    },
    {
      "cell_type": "code",
      "source": [
        "len(tokener.get_vocabulary())"
      ],
      "metadata": {
        "colab": {
          "base_uri": "https://localhost:8080/"
        },
        "id": "OhlHy4ZMVmFc",
        "outputId": "4e4eadf3-fb43-4788-dab8-8553f37ebf4f"
      },
      "execution_count": 14,
      "outputs": [
        {
          "output_type": "execute_result",
          "data": {
            "text/plain": [
              "15000"
            ]
          },
          "metadata": {},
          "execution_count": 14
        }
      ]
    },
    {
      "cell_type": "code",
      "source": [
        "import numpy as np\n",
        "\n",
        "train_input = np.array(tokener(train_input))\n",
        "\n",
        "train_label = np.array(train_label)"
      ],
      "metadata": {
        "id": "C_dnfL9KVnh0"
      },
      "execution_count": 15,
      "outputs": []
    },
    {
      "cell_type": "code",
      "source": [
        "len(train_input), len(train_label)"
      ],
      "metadata": {
        "colab": {
          "base_uri": "https://localhost:8080/"
        },
        "id": "h6PJ1cFrWG6x",
        "outputId": "3e9f8423-fdcd-407c-d684-f77829f719fb"
      },
      "execution_count": 16,
      "outputs": [
        {
          "output_type": "execute_result",
          "data": {
            "text/plain": [
              "(25000, 25000)"
            ]
          },
          "metadata": {},
          "execution_count": 16
        }
      ]
    },
    {
      "cell_type": "code",
      "source": [
        "test_input = np.array(tokener(test_input))\n",
        "\n",
        "test_label = np.array(test_label)"
      ],
      "metadata": {
        "id": "YufN3gEDWJuS"
      },
      "execution_count": 17,
      "outputs": []
    },
    {
      "cell_type": "code",
      "source": [
        "from tensorflow.keras.models import Sequential\n",
        "\n",
        "from tensorflow.keras.layers import (\n",
        "  Embedding, Dropout,\n",
        "  GlobalAveragePooling1D,\n",
        "  Dense\n",
        ")\n",
        "\n",
        "model = Sequential([\n",
        "  Embedding(max_tokens, embedding, input_length=output_sequence_length),\n",
        "  Dropout(0.2),\n",
        "  GlobalAveragePooling1D(),\n",
        "  Dropout(0.2),\n",
        "  Dense(1, activation=\"sigmoid\")\n",
        "])"
      ],
      "metadata": {
        "id": "TqAbGfptWKsi"
      },
      "execution_count": null,
      "outputs": []
    },
    {
      "cell_type": "code",
      "source": [
        "model.compile(loss=\"binary_crossentropy\", optimizer=\"adam\", metrics=[\"accuracy\"])"
      ],
      "metadata": {
        "id": "7B6uEIrBW-4H"
      },
      "execution_count": 19,
      "outputs": []
    },
    {
      "cell_type": "code",
      "source": [
        "validation = (test_input, test_label)\n",
        "\n",
        "plot = model.fit(train_input, train_label, epochs=10, validation_data=validation)"
      ],
      "metadata": {
        "id": "HlyWvYfcXApk"
      },
      "execution_count": null,
      "outputs": []
    },
    {
      "cell_type": "code",
      "source": [
        "model.evaluate(train_input, train_label, verbose=0)"
      ],
      "metadata": {
        "colab": {
          "base_uri": "https://localhost:8080/"
        },
        "id": "urWH1ipAX2x-",
        "outputId": "78087579-2400-41ad-d651-c3af609ecbc7"
      },
      "execution_count": 21,
      "outputs": [
        {
          "output_type": "execute_result",
          "data": {
            "text/plain": [
              "[0.17072126269340515, 0.9376000165939331]"
            ]
          },
          "metadata": {},
          "execution_count": 21
        }
      ]
    },
    {
      "cell_type": "code",
      "source": [
        "model.evaluate(test_input, test_label, verbose=0)"
      ],
      "metadata": {
        "colab": {
          "base_uri": "https://localhost:8080/"
        },
        "id": "JkLLx017X4T6",
        "outputId": "29cd0053-2802-4079-909c-8eb7e9e50c2e"
      },
      "execution_count": 22,
      "outputs": [
        {
          "output_type": "execute_result",
          "data": {
            "text/plain": [
              "[0.3093123733997345, 0.8717600107192993]"
            ]
          },
          "metadata": {},
          "execution_count": 22
        }
      ]
    },
    {
      "cell_type": "code",
      "source": [
        "np.save(\"tokener.npy\", tokener.get_vocabulary())"
      ],
      "metadata": {
        "id": "TQFwPyx8X5-2"
      },
      "execution_count": 23,
      "outputs": []
    },
    {
      "cell_type": "code",
      "source": [
        "test_load = np.load(\"tokener.npy\")\n",
        "\n",
        "type(test_load)"
      ],
      "metadata": {
        "colab": {
          "base_uri": "https://localhost:8080/"
        },
        "id": "2qPNvKwKX7rX",
        "outputId": "3474451b-6ccc-4353-9c00-6f321db5a61f"
      },
      "execution_count": 24,
      "outputs": [
        {
          "output_type": "execute_result",
          "data": {
            "text/plain": [
              "numpy.ndarray"
            ]
          },
          "metadata": {},
          "execution_count": 24
        }
      ]
    },
    {
      "cell_type": "code",
      "source": [
        "test_token = tf.keras.layers.TextVectorization(\n",
        "  pad_to_max_tokens=ontrue,\n",
        "  output_sequence_length=180,\n",
        "  max_tokens = 15000\n",
        ")\n",
        "\n",
        "test_token.adapt(test_load)"
      ],
      "metadata": {
        "id": "AfidjM1fYSra"
      },
      "execution_count": 25,
      "outputs": []
    },
    {
      "cell_type": "code",
      "source": [
        "len(test_token.get_vocabulary())"
      ],
      "metadata": {
        "colab": {
          "base_uri": "https://localhost:8080/"
        },
        "id": "x9AO_BOLYi_L",
        "outputId": "5ff84124-c446-45ed-f13a-392a3251cb69"
      },
      "execution_count": 26,
      "outputs": [
        {
          "output_type": "execute_result",
          "data": {
            "text/plain": [
              "15000"
            ]
          },
          "metadata": {},
          "execution_count": 26
        }
      ]
    }
  ]
}